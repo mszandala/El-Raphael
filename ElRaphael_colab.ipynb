{
 "cells": [
  {
   "cell_type": "markdown",
   "id": "intro",
   "metadata": {},
   "source": [
    "# 📖 El Raphael (Colab version)\n",
    "Ten notebook automatycznie klonuje repozytorium i uruchamia główne funkcje."
   ]
  },
  {
   "cell_type": "code",
   "execution_count": null,
   "id": "setup",
   "metadata": {},
   "outputs": [
    {
     "name": "stderr",
     "output_type": "stream",
     "text": [
      "'rm' is not recognized as an internal or external command,\n",
      "operable program or batch file.\n"
     ]
    },
    {
     "name": "stdout",
     "output_type": "stream",
     "text": [
      "d:\\Martyna\\ElRaphael\\El-Raphael\n"
     ]
    },
    {
     "name": "stderr",
     "output_type": "stream",
     "text": [
      "Cloning into 'El-Raphael'...\n",
      "'ls' is not recognized as an internal or external command,\n",
      "operable program or batch file.\n"
     ]
    }
   ],
   "source": [
    "# 🚀 Setup środowiska\n",
    "!rm -rf El-Raphael\n",
    "!pip install openai-whisper pydub rapidfuzz\n",
    "!git clone https://github.com/mszandala/El-Raphael.git\n",
    "%cd El-Raphael\n",
    "\n",
    "\n",
    "# (opcjonalnie) sprawdź strukturę repozytorium\n",
    "!ls -R"
   ]
  },
  {
   "cell_type": "code",
   "execution_count": null,
   "id": "imports",
   "metadata": {},
   "outputs": [
    {
     "name": "stdout",
     "output_type": "stream",
     "text": [
      "=== El Raphael ===\n"
     ]
    }
   ],
   "source": [
    "# 📦 Importy\n",
    "import funkcje.empty_srt as empty_srt\n",
    "import funkcje.cut_chapter as cut_chapter\n",
    "import funkcje.upload_mp3 as upload_mp3\n",
    "import funkcje.whisper as whisper\n",
    "import funkcje.division_mp3 as division_mp3\n",
    "\n",
    "print(\"=== El Raphael ===\")"
   ]
  },
  {
   "cell_type": "code",
   "execution_count": null,
   "id": "workflow",
   "metadata": {},
   "outputs": [
    {
     "name": "stdout",
     "output_type": "stream",
     "text": [
      "\n",
      "ETAP 1: Utworzenie pustego pliku SRT z czasami\n",
      "📂 Wybierz plik TXT z czasami:\n",
      "⚠️ Nie wybrano pliku.\n",
      "\n",
      "ETAP 2: Wybranie rozdziału\n",
      "\n",
      "ETAP 3: Wgranie plików .mp3\n",
      "\n",
      "ETAP 4: Podział rozdziału\n"
     ]
    }
   ],
   "source": [
    "print(\"\\nETAP 1: Utworzenie pustego pliku SRT z czasami\")\n",
    "# empty_srt.run()\n",
    "\n",
    "print(\"\\nETAP 2: Wybranie rozdziału\")\n",
    "# cut_chapter.run()\n",
    "\n",
    "print(\"\\nETAP 3: Wgranie plików .mp3\")\n",
    "# upload_mp3.run()\n",
    "\n",
    "print(\"\\nETAP 4: Podział rozdziału\")\n",
    "# division_mp3.run()"
   ]
  }
 ],
 "metadata": {
  "kernelspec": {
   "display_name": "Python 3",
   "language": "python",
   "name": "python3"
  },
  "language_info": {
   "codemirror_mode": {
    "name": "ipython",
    "version": 3
   },
   "file_extension": ".py",
   "mimetype": "text/x-python",
   "name": "python",
   "nbconvert_exporter": "python",
   "pygments_lexer": "ipython3",
   "version": "3.11.9"
  }
 },
 "nbformat": 4,
 "nbformat_minor": 5
}
