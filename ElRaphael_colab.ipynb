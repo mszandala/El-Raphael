{
 "cells": [
  {
   "cell_type": "markdown",
   "id": "45572bd3",
   "metadata": {},
   "source": [
    "# 📖 El Raphael (Colab version)"
   ]
  },
  {
   "cell_type": "code",
   "execution_count": null,
   "id": "c6943f42",
   "metadata": {},
   "outputs": [],
   "source": [
    "!git clone https://github.com/twoj-user/El-Raphael\n",
    "%cd El-Raphael"
   ]
  },
  {
   "cell_type": "code",
   "execution_count": null,
   "id": "fbd25348",
   "metadata": {},
   "outputs": [],
   "source": [
    "import funkcje.empty_srt as empty_srt\n",
    "import funkcje.cut_chapter as cut_chapter\n",
    "import funkcje.upload_mp3 as upload_mp3\n",
    "\n",
    "print(\"=== El Raphael ===\")\n",
    "print(\"\\nETAP 1: Utworzenie pustego pliku SRT z czasami\")\n",
    "# empty_srt.run()\n",
    "print(\"\\nETAP 2: Wybranie rozdziału\")\n",
    "# cut_chapter.run()\n",
    "print(\"\\nETAP 3: Wgranie plików .mp3\")\n",
    "upload_mp3.run()\n",
    "print(\"\\nETAP 4: Podział rozdziału\")"
   ]
  }
 ],
 "metadata": {
  "kernelspec": {
   "display_name": "Python 3",
   "language": "python",
   "name": "python3"
  },
  "language_info": {
   "name": "python",
   "version": "3.x"
  }
 },
 "nbformat": 4,
 "nbformat_minor": 5
}
