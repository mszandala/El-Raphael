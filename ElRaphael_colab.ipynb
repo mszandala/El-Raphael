{
 "cells": [
  {
   "cell_type": "code",
   "execution_count": null,
   "id": "2fed2c03",
   "metadata": {
    "vscode": {
     "languageId": "plaintext"
    }
   },
   "outputs": [],
   "source": [
    "{\n",
    " \"cells\": [\n",
    "  {\n",
    "   \"cell_type\": \"markdown\",\n",
    "   \"metadata\": {},\n",
    "   \"source\": [\n",
    "    \"# 📖 El Raphael (Colab version)\"\n",
    "   ]\n",
    "  },\n",
    "  {\n",
    "   \"cell_type\": \"code\",\n",
    "   \"execution_count\": null,\n",
    "   \"metadata\": {},\n",
    "   \"outputs\": [],\n",
    "   \"source\": [\n",
    "    \"!git clone https://github.com/twoj-user/El-Raphael\\n\",\n",
    "    \"%cd El-Raphael\"\n",
    "   ]\n",
    "  },\n",
    "  {\n",
    "   \"cell_type\": \"code\",\n",
    "   \"execution_count\": null,\n",
    "   \"metadata\": {},\n",
    "   \"outputs\": [],\n",
    "   \"source\": [\n",
    "    \"import funkcje.empty_srt as empty_srt\\n\",\n",
    "    \"import funkcje.cut_chapter as cut_chapter\\n\",\n",
    "    \"import funkcje.upload_mp3 as upload_mp3\\n\",\n",
    "    \"\\n\",\n",
    "    \"print(\\\"=== El Raphael ===\\\")\\n\",\n",
    "    \"print(\\\"\\\\nETAP 1: Utworzenie pustego pliku SRT z czasami\\\")\\n\",\n",
    "    \"# empty_srt.run()\\n\",\n",
    "    \"print(\\\"\\\\nETAP 2: Wybranie rozdziału\\\")\\n\",\n",
    "    \"# cut_chapter.run()\\n\",\n",
    "    \"print(\\\"\\\\nETAP 3: Wgranie plików .mp3\\\")\\n\",\n",
    "    \"upload_mp3.run()\\n\",\n",
    "    \"print(\\\"\\\\nETAP 4: Podział rozdziału\\\")\"\n",
    "   ]\n",
    "  }\n",
    " ],\n",
    " \"metadata\": {\n",
    "  \"kernelspec\": {\n",
    "   \"display_name\": \"Python 3\",\n",
    "   \"language\": \"python\",\n",
    "   \"name\": \"python3\"\n",
    "  },\n",
    "  \"language_info\": {\n",
    "   \"name\": \"python\",\n",
    "   \"version\": \"3.x\"\n",
    "  }\n",
    " },\n",
    " \"nbformat\": 4,\n",
    " \"nbformat_minor\": 5\n",
    "}\n"
   ]
  }
 ],
 "metadata": {
  "language_info": {
   "name": "python"
  }
 },
 "nbformat": 4,
 "nbformat_minor": 5
}
