{
 "cells": [
  {
   "cell_type": "markdown",
   "id": "intro",
   "metadata": {},
   "source": [
    "# 📖 El Raphael (Colab version)\n",
    "Ten notebook automatycznie klonuje repozytorium i uruchamia główne funkcje."
   ]
  },
  {
   "cell_type": "code",
   "execution_count": null,
   "id": "setup",
   "metadata": {},
   "outputs": [],
   "source": [
    "# 🚀 Setup środowiska\n",
    "!rm -rf El-Raphael\n",
    "!git clone https://github.com/mszandala/El-Raphael.git\n",
    "%cd El-Raphael\n",
    "\n",
    "# (opcjonalnie) sprawdź strukturę repozytorium\n",
    "!ls -R"
   ]
  },
  {
   "cell_type": "code",
   "execution_count": null,
   "id": "imports",
   "metadata": {},
   "outputs": [],
   "source": [
    "# 📦 Importy\n",
    "import funkcje.empty_srt as empty_srt\n",
    "import funkcje.cut_chapter as cut_chapter\n",
    "import funkcje.upload_mp3 as upload_mp3\n",
    "\n",
    "print(\"=== El Raphael ===\")"
   ]
  },
  {
   "cell_type": "code",
   "execution_count": null,
   "id": "workflow",
   "metadata": {},
   "outputs": [],
   "source": [
    "print(\"\\nETAP 1: Utworzenie pustego pliku SRT z czasami\")\n",
    "# empty_srt.run()\n",
    "\n",
    "print(\"\\nETAP 2: Wybranie rozdziału\")\n",
    "# cut_chapter.run()\n",
    "\n",
    "print(\"\\nETAP 3: Wgranie plików .mp3\")\n",
    "upload_mp3.run()\n",
    "\n",
    "print(\"\\nETAP 4: Podział rozdziału\")"
   ]
  }
 ],
 "metadata": {
  "kernelspec": {
   "display_name": "Python 3",
   "language": "python",
   "name": "python3"
  },
  "language_info": {
   "name": "python",
   "version": "3.x"
  }
 },
 "nbformat": 4,
 "nbformat_minor": 5
}
